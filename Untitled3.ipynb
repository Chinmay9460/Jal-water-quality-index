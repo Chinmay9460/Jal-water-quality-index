{
 "cells": [
  {
   "cell_type": "code",
   "execution_count": 37,
   "id": "04a49f52",
   "metadata": {},
   "outputs": [],
   "source": [
    "import pandas as pd\n",
    "import numpy as np"
   ]
  },
  {
   "cell_type": "code",
   "execution_count": 44,
   "id": "772127db",
   "metadata": {},
   "outputs": [
    {
     "data": {
      "text/plain": [
       "Index(['ph', 'Hardness', 'Solids', 'Chloramines', 'Sulfate', 'Conductivity',\n",
       "       'Organic_carbon', 'Trihalomethanes', 'Turbidity'],\n",
       "      dtype='object')"
      ]
     },
     "execution_count": 44,
     "metadata": {},
     "output_type": "execute_result"
    }
   ],
   "source": [
    "df = pd.read_csv('G:\\Projects_data\\sample_project1/input.csv')\n",
    "df\n",
    "df.columns"
   ]
  },
  {
   "cell_type": "code",
   "execution_count": 48,
   "id": "b1f1ee31",
   "metadata": {},
   "outputs": [
    {
     "name": "stdout",
     "output_type": "stream",
     "text": [
      "0     3\n",
      "1    31\n",
      "2    11\n",
      "Name: ph, dtype: int64\n"
     ]
    }
   ],
   "source": [
    "a = []\n",
    "a = df.ph\n",
    "\n",
    "print(a)"
   ]
  },
  {
   "cell_type": "code",
   "execution_count": 31,
   "id": "9b3292f3",
   "metadata": {},
   "outputs": [],
   "source": [
    "header = ['ph','Hardness','Solids','Chloramines','Sulfate','Conductivity','Organic_carbon','Trihalomethanes','Turbidity']\n",
    "data = [[3,414,4124,124,231231,123,124,21,525],['31', '323', '123', '14', '12', '32', '453', '424', '523'],\n",
    " ['11', '43', '123', '421', '414', '14', '12414', '1214','4341']]\n",
    "\n",
    "data = pd.DataFrame(data, columns=header)"
   ]
  },
  {
   "cell_type": "code",
   "execution_count": 32,
   "id": "4777d8a9",
   "metadata": {},
   "outputs": [],
   "source": [
    "data.to_csv('input.csv', index=False)"
   ]
  },
  {
   "cell_type": "code",
   "execution_count": 33,
   "id": "1e0a5a78",
   "metadata": {},
   "outputs": [
    {
     "data": {
      "text/html": [
       "<div>\n",
       "<style scoped>\n",
       "    .dataframe tbody tr th:only-of-type {\n",
       "        vertical-align: middle;\n",
       "    }\n",
       "\n",
       "    .dataframe tbody tr th {\n",
       "        vertical-align: top;\n",
       "    }\n",
       "\n",
       "    .dataframe thead th {\n",
       "        text-align: right;\n",
       "    }\n",
       "</style>\n",
       "<table border=\"1\" class=\"dataframe\">\n",
       "  <thead>\n",
       "    <tr style=\"text-align: right;\">\n",
       "      <th></th>\n",
       "      <th>ph</th>\n",
       "      <th>Hardness</th>\n",
       "      <th>Solids</th>\n",
       "      <th>Chloramines</th>\n",
       "      <th>Sulfate</th>\n",
       "      <th>Conductivity</th>\n",
       "      <th>Organic_carbon</th>\n",
       "      <th>Trihalomethanes</th>\n",
       "      <th>Turbidity</th>\n",
       "    </tr>\n",
       "  </thead>\n",
       "  <tbody>\n",
       "    <tr>\n",
       "      <th>0</th>\n",
       "      <td>3</td>\n",
       "      <td>414</td>\n",
       "      <td>4124</td>\n",
       "      <td>124</td>\n",
       "      <td>231231</td>\n",
       "      <td>123</td>\n",
       "      <td>124</td>\n",
       "      <td>21</td>\n",
       "      <td>525</td>\n",
       "    </tr>\n",
       "    <tr>\n",
       "      <th>1</th>\n",
       "      <td>31</td>\n",
       "      <td>323</td>\n",
       "      <td>123</td>\n",
       "      <td>14</td>\n",
       "      <td>12</td>\n",
       "      <td>32</td>\n",
       "      <td>453</td>\n",
       "      <td>424</td>\n",
       "      <td>523</td>\n",
       "    </tr>\n",
       "    <tr>\n",
       "      <th>2</th>\n",
       "      <td>11</td>\n",
       "      <td>43</td>\n",
       "      <td>123</td>\n",
       "      <td>421</td>\n",
       "      <td>414</td>\n",
       "      <td>14</td>\n",
       "      <td>12414</td>\n",
       "      <td>1214</td>\n",
       "      <td>4341</td>\n",
       "    </tr>\n",
       "  </tbody>\n",
       "</table>\n",
       "</div>"
      ],
      "text/plain": [
       "   ph  Hardness  Solids  Chloramines  Sulfate  Conductivity  Organic_carbon  \\\n",
       "0   3       414    4124          124   231231           123             124   \n",
       "1  31       323     123           14       12            32             453   \n",
       "2  11        43     123          421      414            14           12414   \n",
       "\n",
       "   Trihalomethanes  Turbidity  \n",
       "0               21        525  \n",
       "1              424        523  \n",
       "2             1214       4341  "
      ]
     },
     "execution_count": 33,
     "metadata": {},
     "output_type": "execute_result"
    }
   ],
   "source": [
    "df.head()"
   ]
  },
  {
   "cell_type": "code",
   "execution_count": 4,
   "id": "dff5be5e",
   "metadata": {},
   "outputs": [
    {
     "data": {
      "text/plain": [
       "(2, 9)"
      ]
     },
     "execution_count": 4,
     "metadata": {},
     "output_type": "execute_result"
    }
   ],
   "source": [
    "df.shape"
   ]
  },
  {
   "cell_type": "code",
   "execution_count": 5,
   "id": "01ceacb1",
   "metadata": {},
   "outputs": [
    {
     "name": "stdout",
     "output_type": "stream",
     "text": [
      "<class 'pandas.core.frame.DataFrame'>\n",
      "RangeIndex: 2 entries, 0 to 1\n",
      "Data columns (total 9 columns):\n",
      " #   Column           Non-Null Count  Dtype  \n",
      "---  ------           --------------  -----  \n",
      " 0   pHValue          2 non-null      int64  \n",
      " 1   Hardness         2 non-null      int64  \n",
      " 2   TDS              2 non-null      int64  \n",
      " 3   Chloramines      2 non-null      int64  \n",
      " 4   sulfates         2 non-null      int64  \n",
      " 5   conductivity     2 non-null      int64  \n",
      " 6   Organic_carbon   2 non-null      int64  \n",
      " 7   Trihalomethanes  2 non-null      int64  \n",
      " 8   Turbidity        1 non-null      float64\n",
      "dtypes: float64(1), int64(8)\n",
      "memory usage: 272.0 bytes\n"
     ]
    }
   ],
   "source": [
    "df.info()"
   ]
  },
  {
   "cell_type": "code",
   "execution_count": 6,
   "id": "01403620",
   "metadata": {},
   "outputs": [
    {
     "data": {
      "text/html": [
       "<div>\n",
       "<style scoped>\n",
       "    .dataframe tbody tr th:only-of-type {\n",
       "        vertical-align: middle;\n",
       "    }\n",
       "\n",
       "    .dataframe tbody tr th {\n",
       "        vertical-align: top;\n",
       "    }\n",
       "\n",
       "    .dataframe thead th {\n",
       "        text-align: right;\n",
       "    }\n",
       "</style>\n",
       "<table border=\"1\" class=\"dataframe\">\n",
       "  <thead>\n",
       "    <tr style=\"text-align: right;\">\n",
       "      <th></th>\n",
       "      <th>pHValue</th>\n",
       "      <th>Hardness</th>\n",
       "      <th>TDS</th>\n",
       "      <th>Chloramines</th>\n",
       "      <th>sulfates</th>\n",
       "      <th>conductivity</th>\n",
       "      <th>Organic_carbon</th>\n",
       "      <th>Trihalomethanes</th>\n",
       "      <th>Turbidity</th>\n",
       "    </tr>\n",
       "  </thead>\n",
       "  <tbody>\n",
       "    <tr>\n",
       "      <th>count</th>\n",
       "      <td>2.000000</td>\n",
       "      <td>2.000000</td>\n",
       "      <td>2.0</td>\n",
       "      <td>2.00000</td>\n",
       "      <td>2.000000</td>\n",
       "      <td>2.000000</td>\n",
       "      <td>2.00000</td>\n",
       "      <td>2.000000</td>\n",
       "      <td>1.0</td>\n",
       "    </tr>\n",
       "    <tr>\n",
       "      <th>mean</th>\n",
       "      <td>21.000000</td>\n",
       "      <td>183.000000</td>\n",
       "      <td>123.0</td>\n",
       "      <td>217.50000</td>\n",
       "      <td>213.000000</td>\n",
       "      <td>23.000000</td>\n",
       "      <td>6433.50000</td>\n",
       "      <td>819.000000</td>\n",
       "      <td>523.0</td>\n",
       "    </tr>\n",
       "    <tr>\n",
       "      <th>std</th>\n",
       "      <td>14.142136</td>\n",
       "      <td>197.989899</td>\n",
       "      <td>0.0</td>\n",
       "      <td>287.79246</td>\n",
       "      <td>284.256926</td>\n",
       "      <td>12.727922</td>\n",
       "      <td>8457.70421</td>\n",
       "      <td>558.614357</td>\n",
       "      <td>NaN</td>\n",
       "    </tr>\n",
       "    <tr>\n",
       "      <th>min</th>\n",
       "      <td>11.000000</td>\n",
       "      <td>43.000000</td>\n",
       "      <td>123.0</td>\n",
       "      <td>14.00000</td>\n",
       "      <td>12.000000</td>\n",
       "      <td>14.000000</td>\n",
       "      <td>453.00000</td>\n",
       "      <td>424.000000</td>\n",
       "      <td>523.0</td>\n",
       "    </tr>\n",
       "    <tr>\n",
       "      <th>25%</th>\n",
       "      <td>16.000000</td>\n",
       "      <td>113.000000</td>\n",
       "      <td>123.0</td>\n",
       "      <td>115.75000</td>\n",
       "      <td>112.500000</td>\n",
       "      <td>18.500000</td>\n",
       "      <td>3443.25000</td>\n",
       "      <td>621.500000</td>\n",
       "      <td>523.0</td>\n",
       "    </tr>\n",
       "    <tr>\n",
       "      <th>50%</th>\n",
       "      <td>21.000000</td>\n",
       "      <td>183.000000</td>\n",
       "      <td>123.0</td>\n",
       "      <td>217.50000</td>\n",
       "      <td>213.000000</td>\n",
       "      <td>23.000000</td>\n",
       "      <td>6433.50000</td>\n",
       "      <td>819.000000</td>\n",
       "      <td>523.0</td>\n",
       "    </tr>\n",
       "    <tr>\n",
       "      <th>75%</th>\n",
       "      <td>26.000000</td>\n",
       "      <td>253.000000</td>\n",
       "      <td>123.0</td>\n",
       "      <td>319.25000</td>\n",
       "      <td>313.500000</td>\n",
       "      <td>27.500000</td>\n",
       "      <td>9423.75000</td>\n",
       "      <td>1016.500000</td>\n",
       "      <td>523.0</td>\n",
       "    </tr>\n",
       "    <tr>\n",
       "      <th>max</th>\n",
       "      <td>31.000000</td>\n",
       "      <td>323.000000</td>\n",
       "      <td>123.0</td>\n",
       "      <td>421.00000</td>\n",
       "      <td>414.000000</td>\n",
       "      <td>32.000000</td>\n",
       "      <td>12414.00000</td>\n",
       "      <td>1214.000000</td>\n",
       "      <td>523.0</td>\n",
       "    </tr>\n",
       "  </tbody>\n",
       "</table>\n",
       "</div>"
      ],
      "text/plain": [
       "         pHValue    Hardness    TDS  Chloramines    sulfates  conductivity  \\\n",
       "count   2.000000    2.000000    2.0      2.00000    2.000000      2.000000   \n",
       "mean   21.000000  183.000000  123.0    217.50000  213.000000     23.000000   \n",
       "std    14.142136  197.989899    0.0    287.79246  284.256926     12.727922   \n",
       "min    11.000000   43.000000  123.0     14.00000   12.000000     14.000000   \n",
       "25%    16.000000  113.000000  123.0    115.75000  112.500000     18.500000   \n",
       "50%    21.000000  183.000000  123.0    217.50000  213.000000     23.000000   \n",
       "75%    26.000000  253.000000  123.0    319.25000  313.500000     27.500000   \n",
       "max    31.000000  323.000000  123.0    421.00000  414.000000     32.000000   \n",
       "\n",
       "       Organic_carbon  Trihalomethanes  Turbidity  \n",
       "count         2.00000         2.000000        1.0  \n",
       "mean       6433.50000       819.000000      523.0  \n",
       "std        8457.70421       558.614357        NaN  \n",
       "min         453.00000       424.000000      523.0  \n",
       "25%        3443.25000       621.500000      523.0  \n",
       "50%        6433.50000       819.000000      523.0  \n",
       "75%        9423.75000      1016.500000      523.0  \n",
       "max       12414.00000      1214.000000      523.0  "
      ]
     },
     "execution_count": 6,
     "metadata": {},
     "output_type": "execute_result"
    }
   ],
   "source": [
    "df.describe()"
   ]
  },
  {
   "cell_type": "code",
   "execution_count": 51,
   "id": "dc855af4",
   "metadata": {},
   "outputs": [
    {
     "name": "stderr",
     "output_type": "stream",
     "text": [
      "C:\\Users\\This PC\\AppData\\Local\\Temp\\ipykernel_2940\\3919170997.py:24: FutureWarning: The frame.append method is deprecated and will be removed from pandas in a future version. Use pandas.concat instead.\n",
      "  datadf = datadf.append(data,ignore_index = True)\n"
     ]
    },
    {
     "ename": "NameError",
     "evalue": "name 'scaler' is not defined",
     "output_type": "error",
     "traceback": [
      "\u001b[1;31m---------------------------------------------------------------------------\u001b[0m",
      "\u001b[1;31mNameError\u001b[0m                                 Traceback (most recent call last)",
      "\u001b[1;32m~\\AppData\\Local\\Temp\\ipykernel_2940\\3919170997.py\u001b[0m in \u001b[0;36m<module>\u001b[1;34m\u001b[0m\n\u001b[0;32m     25\u001b[0m \u001b[1;33m\u001b[0m\u001b[0m\n\u001b[0;32m     26\u001b[0m \u001b[1;33m\u001b[0m\u001b[0m\n\u001b[1;32m---> 27\u001b[1;33m \u001b[0ms\u001b[0m \u001b[1;33m=\u001b[0m \u001b[0mscaler\u001b[0m\u001b[1;33m.\u001b[0m\u001b[0mtransform\u001b[0m\u001b[1;33m(\u001b[0m\u001b[0mdatadf\u001b[0m\u001b[1;33m)\u001b[0m\u001b[1;33m\u001b[0m\u001b[1;33m\u001b[0m\u001b[0m\n\u001b[0m\u001b[0;32m     28\u001b[0m \u001b[1;33m\u001b[0m\u001b[0m\n\u001b[0;32m     29\u001b[0m \u001b[0my_prediction\u001b[0m\u001b[1;33m=\u001b[0m\u001b[0mbest_clf2\u001b[0m\u001b[1;33m.\u001b[0m\u001b[0mpredict\u001b[0m\u001b[1;33m(\u001b[0m\u001b[0ms\u001b[0m\u001b[1;33m)\u001b[0m\u001b[1;33m\u001b[0m\u001b[1;33m\u001b[0m\u001b[0m\n",
      "\u001b[1;31mNameError\u001b[0m: name 'scaler' is not defined"
     ]
    }
   ],
   "source": [
    "# ph = df.ph;\n",
    "# hardness = df.\n",
    "# solids = float(input(\"Enter the value of solids: \"))\n",
    "# chloramines = float(input(\"Enter the value of chloramines: \"))\n",
    "# sulphate = float(input(\"Enter the value of sulphate: \"))\n",
    "# conductivity = float(input(\"Enter the value of conductivity: \"))\n",
    "# organic = float(input(\"Enter the value of organic carbon: \"))\n",
    "# tri = float(input(\"Enter the value of trihalomethanes: \"))\n",
    "# turb = float(input(\"Enter the value of turbidity: \"))\n",
    "\n",
    "# 'ph', 'Hardness', 'Solids', 'Chloramines', 'Sulfate', 'Conductivity',\n",
    "#        'Organic_carbon', 'Trihalomethanes', 'Turbidity'\n",
    "\n",
    "data = {'ph':df.ph,\n",
    "       'Hardness':df.Hardness,\n",
    "       'Solids':df.Solids,\n",
    "       'Chloramines':df.Chloramines,\n",
    "       'Sulfate':df.Sulfate,\n",
    "       'Conductivity':df.Conductivity,\n",
    "       'Organic_carbon':df.Organic_carbon,\n",
    "       'Trihalomethanes':df.Trihalomethanes,\n",
    "       'Turbidity':df.Turbidity}\n",
    "datadf = pd.DataFrame(columns = ['ph','Hardness','Solids','Chloramines','Sulfate','Conductivity','Organic_carbon','Trihalomethanes','Turbidity'])\n",
    "datadf = datadf.append(data,ignore_index = True)\n",
    "\n",
    "\n",
    "s = scaler.transform(datadf)\n",
    "\n",
    "y_prediction=best_clf2.predict(s)\n",
    "if y_prediction[0]== 0:\n",
    "    print(\"\\033[1m THE WATER IS NOT GOOD FOR CONSUMPTION\\033[0m \")\n",
    "else:\n",
    "    print(\"\\033[1m THE WATER IS GOOD FOR CONSUMPTION\\033[0m\")"
   ]
  },
  {
   "cell_type": "code",
   "execution_count": null,
   "id": "fb13477d",
   "metadata": {},
   "outputs": [],
   "source": []
  },
  {
   "cell_type": "code",
   "execution_count": null,
   "id": "202cc56f",
   "metadata": {},
   "outputs": [],
   "source": []
  },
  {
   "cell_type": "code",
   "execution_count": 31,
   "id": "5e7dc7fe",
   "metadata": {},
   "outputs": [
    {
     "data": {
      "text/plain": [
       "_io.TextIOWrapper"
      ]
     },
     "execution_count": 31,
     "metadata": {},
     "output_type": "execute_result"
    }
   ],
   "source": [
    "import csv\n",
    "file = open('input.csv')\n",
    "type(file)"
   ]
  },
  {
   "cell_type": "code",
   "execution_count": 32,
   "id": "2b318117",
   "metadata": {},
   "outputs": [],
   "source": [
    "dd = csv.reader(file)"
   ]
  },
  {
   "cell_type": "code",
   "execution_count": 33,
   "id": "7691a06f",
   "metadata": {},
   "outputs": [
    {
     "data": {
      "text/plain": [
       "['pHValue',\n",
       " 'Hardness',\n",
       " 'TDS',\n",
       " 'Chloramines',\n",
       " 'sulfates',\n",
       " 'conductivity',\n",
       " 'Organic_carbon',\n",
       " 'Trihalomethanes',\n",
       " 'Turbidity']"
      ]
     },
     "execution_count": 33,
     "metadata": {},
     "output_type": "execute_result"
    }
   ],
   "source": [
    "header = []\n",
    "header = next(dd)\n",
    "header"
   ]
  },
  {
   "cell_type": "code",
   "execution_count": 34,
   "id": "3f970740",
   "metadata": {},
   "outputs": [
    {
     "data": {
      "text/plain": [
       "[['31', '323', '123', '14', '12', '32', '453', '424', '523'],\n",
       " ['11', '43', '123', '421', '414', '14', '12414', '1214']]"
      ]
     },
     "execution_count": 34,
     "metadata": {},
     "output_type": "execute_result"
    }
   ],
   "source": [
    "rows = []\n",
    "\n",
    "for row in dd:\n",
    "    rows.append(row)\n",
    "\n",
    "rows    "
   ]
  },
  {
   "cell_type": "code",
   "execution_count": 50,
   "id": "a0abd9bf",
   "metadata": {},
   "outputs": [
    {
     "name": "stdout",
     "output_type": "stream",
     "text": [
      "['pHValue', 'Hardness', 'TDS', 'Chloramines', 'sulfates', 'conductivity', 'Organic_carbon', 'Trihalomethanes', 'Turbidity']\n",
      "[['31', '323', '123', '14', '12', '32', '453', '424', '523'], ['11', '43', '123', '421', '414', '14', '12414', '1214']]\n"
     ]
    }
   ],
   "source": [
    "import csv\n",
    "rows = []\n",
    "with open(\"input.csv\", 'r') as file:\n",
    "    csvreader = csv.reader(file)\n",
    "    header = next(csvreader)\n",
    "    for row in csvreader:\n",
    "        rows.append(row)\n",
    "print(header)\n",
    "print(rows)       "
   ]
  },
  {
   "cell_type": "code",
   "execution_count": 51,
   "id": "b747d604",
   "metadata": {},
   "outputs": [
    {
     "name": "stdout",
     "output_type": "stream",
     "text": [
      "['pHValue,Hardness,TDS,Chloramines,sulfates,conductivity,Organic_carbon,Trihalomethanes,Turbidity\\n']\n",
      "['31,323,123,14,12,32,453,424,523\\n', '11,43,123,421,414,14,12414,1214']\n"
     ]
    }
   ],
   "source": [
    "with open('input.csv')as file:\n",
    "    content = file.readlines()\n",
    "header = content[:1]\n",
    "rows = content[1:]\n",
    "print(header)\n",
    "print(rows)"
   ]
  }
 ],
 "metadata": {
  "kernelspec": {
   "display_name": "Python 3 (ipykernel)",
   "language": "python",
   "name": "python3"
  },
  "language_info": {
   "codemirror_mode": {
    "name": "ipython",
    "version": 3
   },
   "file_extension": ".py",
   "mimetype": "text/x-python",
   "name": "python",
   "nbconvert_exporter": "python",
   "pygments_lexer": "ipython3",
   "version": "3.9.13"
  }
 },
 "nbformat": 4,
 "nbformat_minor": 5
}
